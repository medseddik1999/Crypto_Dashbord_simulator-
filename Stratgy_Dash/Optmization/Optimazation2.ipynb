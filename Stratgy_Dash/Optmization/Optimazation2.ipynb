{
 "cells": [
  {
   "cell_type": "code",
   "execution_count": 2,
   "id": "d93a025a-da38-499c-a377-b0aba9d6eca0",
   "metadata": {},
   "outputs": [],
   "source": [
    "import pandas as pd \n",
    "import ta  \n",
    "import numpy as np  \n",
    "from tqdm import tqdm  \n",
    "import pandas_ta as pda  \n",
    "import numpy as np \n",
    "import matplotlib.pyplot as plt \n",
    "from matplotlib import cm \n",
    "from mpl_toolkits.mplot3d import axes3d"
   ]
  },
  {
   "cell_type": "code",
   "execution_count": 5,
   "id": "b2bfe5eb-a204-4882-9992-68882f5f086e",
   "metadata": {},
   "outputs": [],
   "source": [
    "coin_dash=pd.read_csv(\"/Users/midou/Desktop/dashbord11_coin.csv\")  \n",
    "coin_dash=coin_dash.set_index(coin_dash[\"timestamp\"])  \n",
    "coin_dash_train=coin_dash[:500] #'2020-8-10'\n",
    "coin_dash_test=coin_dash[500:]\n",
    "data=[coin_dash_train ,coin_dash_test]  \n",
    "paire_name = [\"XRPUSDT\",\"BTCUSDT\",\"DASHUSDT\",\"ZRXUSDT\",\"ETHUSDT\",\"XMRUSDT\",\"LTCUSDT\"] \n",
    "ded=[0,1]\n"
   ]
  },
  {
   "cell_type": "code",
   "execution_count": 6,
   "id": "032cfeea-1d1f-4ea7-9894-766623af8b44",
   "metadata": {},
   "outputs": [],
   "source": [
    "def simule_super(df , name):  \n",
    "    simule =pd.DataFrame()\n",
    "    rowslist =[] \n",
    "    myrange=np.arange(1.0,20.0,3.5)\n",
    "    for i in range(10,150,10): \n",
    "        for j in range(10 ,200,20) : \n",
    "            for z in myrange:\n",
    "                coin=0 \n",
    "                m=1000  \n",
    "                ST_length = j\n",
    "                ST_multiplier = z\n",
    "                superTrend = pda.supertrend(df['high '+name], df['low '+name], df['close '+name], \n",
    "                                        length=ST_length, multiplier=ST_multiplier)\n",
    "                df['SUPER_TREND'] = superTrend['SUPERT_'+str(ST_length)+\"_\"+str(ST_multiplier)]\n",
    "                df['SUPER_TREND_DIRECTION1'] = superTrend['SUPERTd_'+str(ST_length)+\"_\"+str(ST_multiplier)]\n",
    "                \n",
    "                ST_length = j*2\n",
    "                ST_multiplier = z*2.0\n",
    "                superTrend = pda.supertrend(df['high '+name], df['low '+name], df['close '+name],\n",
    "                                        length=ST_length, multiplier=ST_multiplier)\n",
    "                df['SUPER_TREND'] = superTrend['SUPERT_'+str(ST_length)+\"_\"+str(ST_multiplier)]\n",
    "                df['SUPER_TREND_DIRECTION2'] = superTrend['SUPERTd_'+str(ST_length)+\"_\"+str(ST_multiplier)]\n",
    "\n",
    "                ST_length = j*2\n",
    "                ST_multiplier = z*2.0\n",
    "                superTrend = pda.supertrend(df['high '+name], df['low '+name], df['close '+name], \n",
    "                                        length=ST_length, multiplier=ST_multiplier)\n",
    "                df['SUPER_TREND'] = superTrend['SUPERT_'+str(ST_length)+\"_\"+str(ST_multiplier)]\n",
    "                df['SUPER_TREND_DIRECTION3'] = superTrend['SUPERTd_'+str(ST_length)+\"_\"+str(ST_multiplier)]\n",
    "                df['EMA50']=ta.trend.sma_indicator(df['close '+name], i) \n",
    "                df['STOCH_RSI']=ta.momentum.stochrsi(df[\"close \"+name] , window=14 ,smooth1=3 ,smooth2=3) \n",
    "                rotter=[]\n",
    "               \n",
    "                for index, row in df.iterrows() : \n",
    "                    if (row['SUPER_TREND_DIRECTION1']+row['SUPER_TREND_DIRECTION2']+row['SUPER_TREND_DIRECTION3'] >= 1 \n",
    "                       and row['STOCH_RSI'] < 0.8 and row['close '+name]>row['EMA50'] and m > 0): \n",
    "                        coin=m/df['close '+name][index]  \n",
    "                        coin=coin-coin*0.007 \n",
    "                        bot_portefeuille = m +coin*df['close '+name][index]\n",
    "                        chik={'i '+name:i , 'j '+name:j,'z '+name: z ,'value '+name:bot_portefeuille}\n",
    "                        rotter.append(chik)  \n",
    "                \n",
    "                    if (row['SUPER_TREND_DIRECTION1']+row['SUPER_TREND_DIRECTION2']+row['SUPER_TREND_DIRECTION3'] < 1 \n",
    "                        and row['STOCH_RSI'] > 0.2 and coin > 0):  \n",
    "                        m=coin*df['close '+name][index] \n",
    "                        m=m-m*0.007 \n",
    "                        coin=0 \n",
    "                        bot_portefeuille = m +coin*df['close '+name][index]  \n",
    "                        chik={'i '+name :i , 'j '+name:j ,'z '+name: z,' value '+name :bot_portefeuille}  \n",
    "                        rotter.append(chik)  \n",
    "                 \n",
    "                dt=pd.DataFrame(rotter)  \n",
    "                clock=dt.iloc[-1:]  \n",
    "                simule=simule.append(clock)  \n",
    "    return simule"
   ]
  },
  {
   "cell_type": "code",
   "execution_count": 7,
   "id": "55d3ff0a-9502-42c6-80d5-89925b0d0b75",
   "metadata": {},
   "outputs": [],
   "source": [
    "def most_per(df , name ,n) :\n",
    "    df=df.sort_values(by='value '+name, ascending=False) \n",
    "    df=df[:n] \n",
    "    return df "
   ]
  },
  {
   "cell_type": "code",
   "execution_count": 20,
   "id": "0d025397-a335-4afa-9ea5-0ddece091a87",
   "metadata": {},
   "outputs": [
    {
     "name": "stderr",
     "output_type": "stream",
     "text": [
      "  0%|          | 0/7 [00:00<?, ?it/s]/var/folders/4k/2v2nn1sn1k1f7dtmr6ny96vh0000gn/T/ipykernel_7462/1402080350.py:14: SettingWithCopyWarning: \n",
      "A value is trying to be set on a copy of a slice from a DataFrame.\n",
      "Try using .loc[row_indexer,col_indexer] = value instead\n",
      "\n",
      "See the caveats in the documentation: https://pandas.pydata.org/pandas-docs/stable/user_guide/indexing.html#returning-a-view-versus-a-copy\n",
      "  df['SUPER_TREND'] = superTrend['SUPERT_'+str(ST_length)+\"_\"+str(ST_multiplier)]\n",
      "/var/folders/4k/2v2nn1sn1k1f7dtmr6ny96vh0000gn/T/ipykernel_7462/1402080350.py:15: SettingWithCopyWarning: \n",
      "A value is trying to be set on a copy of a slice from a DataFrame.\n",
      "Try using .loc[row_indexer,col_indexer] = value instead\n",
      "\n",
      "See the caveats in the documentation: https://pandas.pydata.org/pandas-docs/stable/user_guide/indexing.html#returning-a-view-versus-a-copy\n",
      "  df['SUPER_TREND_DIRECTION1'] = superTrend['SUPERTd_'+str(ST_length)+\"_\"+str(ST_multiplier)]\n",
      "/var/folders/4k/2v2nn1sn1k1f7dtmr6ny96vh0000gn/T/ipykernel_7462/1402080350.py:21: SettingWithCopyWarning: \n",
      "A value is trying to be set on a copy of a slice from a DataFrame.\n",
      "Try using .loc[row_indexer,col_indexer] = value instead\n",
      "\n",
      "See the caveats in the documentation: https://pandas.pydata.org/pandas-docs/stable/user_guide/indexing.html#returning-a-view-versus-a-copy\n",
      "  df['SUPER_TREND'] = superTrend['SUPERT_'+str(ST_length)+\"_\"+str(ST_multiplier)]\n",
      "/var/folders/4k/2v2nn1sn1k1f7dtmr6ny96vh0000gn/T/ipykernel_7462/1402080350.py:22: SettingWithCopyWarning: \n",
      "A value is trying to be set on a copy of a slice from a DataFrame.\n",
      "Try using .loc[row_indexer,col_indexer] = value instead\n",
      "\n",
      "See the caveats in the documentation: https://pandas.pydata.org/pandas-docs/stable/user_guide/indexing.html#returning-a-view-versus-a-copy\n",
      "  df['SUPER_TREND_DIRECTION2'] = superTrend['SUPERTd_'+str(ST_length)+\"_\"+str(ST_multiplier)]\n",
      "/var/folders/4k/2v2nn1sn1k1f7dtmr6ny96vh0000gn/T/ipykernel_7462/1402080350.py:28: SettingWithCopyWarning: \n",
      "A value is trying to be set on a copy of a slice from a DataFrame.\n",
      "Try using .loc[row_indexer,col_indexer] = value instead\n",
      "\n",
      "See the caveats in the documentation: https://pandas.pydata.org/pandas-docs/stable/user_guide/indexing.html#returning-a-view-versus-a-copy\n",
      "  df['SUPER_TREND'] = superTrend['SUPERT_'+str(ST_length)+\"_\"+str(ST_multiplier)]\n",
      "/var/folders/4k/2v2nn1sn1k1f7dtmr6ny96vh0000gn/T/ipykernel_7462/1402080350.py:29: SettingWithCopyWarning: \n",
      "A value is trying to be set on a copy of a slice from a DataFrame.\n",
      "Try using .loc[row_indexer,col_indexer] = value instead\n",
      "\n",
      "See the caveats in the documentation: https://pandas.pydata.org/pandas-docs/stable/user_guide/indexing.html#returning-a-view-versus-a-copy\n",
      "  df['SUPER_TREND_DIRECTION3'] = superTrend['SUPERTd_'+str(ST_length)+\"_\"+str(ST_multiplier)]\n",
      "/var/folders/4k/2v2nn1sn1k1f7dtmr6ny96vh0000gn/T/ipykernel_7462/1402080350.py:30: SettingWithCopyWarning: \n",
      "A value is trying to be set on a copy of a slice from a DataFrame.\n",
      "Try using .loc[row_indexer,col_indexer] = value instead\n",
      "\n",
      "See the caveats in the documentation: https://pandas.pydata.org/pandas-docs/stable/user_guide/indexing.html#returning-a-view-versus-a-copy\n",
      "  df['EMA50']=ta.trend.sma_indicator(df['close '+name], i)\n",
      "/var/folders/4k/2v2nn1sn1k1f7dtmr6ny96vh0000gn/T/ipykernel_7462/1402080350.py:31: SettingWithCopyWarning: \n",
      "A value is trying to be set on a copy of a slice from a DataFrame.\n",
      "Try using .loc[row_indexer,col_indexer] = value instead\n",
      "\n",
      "See the caveats in the documentation: https://pandas.pydata.org/pandas-docs/stable/user_guide/indexing.html#returning-a-view-versus-a-copy\n",
      "  df['STOCH_RSI']=ta.momentum.stochrsi(df[\"close \"+name] , window=14 ,smooth1=3 ,smooth2=3)\n",
      " 14%|█▍        | 1/7 [03:40<22:05, 220.99s/it]"
     ]
    },
    {
     "name": "stdout",
     "output_type": "stream",
     "text": [
      "i XRPUSDT          140.0\n",
      "j XRPUSDT          190.0\n",
      "z XRPUSDT           18.5\n",
      "value XRPUSDT     1993.0\n",
      " value XRPUSDT       NaN\n",
      "Name: 39, dtype: float64\n"
     ]
    },
    {
     "name": "stderr",
     "output_type": "stream",
     "text": [
      " 29%|██▊       | 2/7 [07:21<18:24, 220.92s/it]"
     ]
    },
    {
     "name": "stdout",
     "output_type": "stream",
     "text": [
      "i BTCUSDT           80.000000\n",
      "j BTCUSDT           10.000000\n",
      "z BTCUSDT            1.000000\n",
      "value BTCUSDT     2314.663888\n",
      " value BTCUSDT            NaN\n",
      "Name: 108, dtype: float64\n"
     ]
    },
    {
     "name": "stderr",
     "output_type": "stream",
     "text": [
      " 43%|████▎     | 3/7 [11:01<14:41, 220.37s/it]"
     ]
    },
    {
     "name": "stdout",
     "output_type": "stream",
     "text": [
      "i DASHUSDT           60.000000\n",
      "j DASHUSDT          190.000000\n",
      "z DASHUSDT            1.000000\n",
      "value DASHUSDT     1998.176056\n",
      " value DASHUSDT            NaN\n",
      "Name: 97, dtype: float64\n"
     ]
    },
    {
     "name": "stderr",
     "output_type": "stream",
     "text": [
      " 57%|█████▋    | 4/7 [14:43<11:02, 220.90s/it]"
     ]
    },
    {
     "name": "stdout",
     "output_type": "stream",
     "text": [
      "i ZRXUSDT           80.0\n",
      "j ZRXUSDT           10.0\n",
      "z ZRXUSDT           18.5\n",
      "value ZRXUSDT     1993.0\n",
      " value ZRXUSDT       NaN\n",
      "Name: 179, dtype: float64\n"
     ]
    },
    {
     "name": "stderr",
     "output_type": "stream",
     "text": [
      " 71%|███████▏  | 5/7 [18:21<07:20, 220.05s/it]"
     ]
    },
    {
     "name": "stdout",
     "output_type": "stream",
     "text": [
      "i ETHUSDT          140.0\n",
      "j ETHUSDT          190.0\n",
      "z ETHUSDT           18.5\n",
      "value ETHUSDT     1993.0\n",
      " value ETHUSDT       NaN\n",
      "Name: 120, dtype: float64\n"
     ]
    },
    {
     "name": "stderr",
     "output_type": "stream",
     "text": [
      " 86%|████████▌ | 6/7 [22:02<03:40, 220.24s/it]"
     ]
    },
    {
     "name": "stdout",
     "output_type": "stream",
     "text": [
      "i XMRUSDT          140.0\n",
      "j XMRUSDT          190.0\n",
      "z XMRUSDT           18.5\n",
      "value XMRUSDT     1993.0\n",
      " value XMRUSDT       NaN\n",
      "Name: 116, dtype: float64\n"
     ]
    },
    {
     "name": "stderr",
     "output_type": "stream",
     "text": [
      "100%|██████████| 7/7 [25:39<00:00, 219.98s/it]"
     ]
    },
    {
     "name": "stdout",
     "output_type": "stream",
     "text": [
      "i LTCUSDT          140.0\n",
      "j LTCUSDT          190.0\n",
      "z LTCUSDT           18.5\n",
      "value LTCUSDT     1993.0\n",
      " value LTCUSDT       NaN\n",
      "Name: 46, dtype: float64\n"
     ]
    },
    {
     "name": "stderr",
     "output_type": "stream",
     "text": [
      "\n"
     ]
    }
   ],
   "source": [
    "for name in tqdm(paire_name) :  \n",
    "    for d in ded :  \n",
    "        if d==0 :  \n",
    "            train=simule_super (data[d] ,name)  \n",
    "            result_train=most_per(train , name ,30) \n",
    "            #print('train result',result)\n",
    "            \n",
    "        if d==1 :   \n",
    "            test=simule_super (data[d] ,name)   \n",
    "            result_test=most_per(train , name, 50) \n",
    "            #print('test result', result ,75)  \n",
    "    count=0\n",
    "    for index, row in result_train.iterrows(): \n",
    "        for index ,row2 in result_test.iterrows(): \n",
    "            if (row['i '+name]==row2['i '+name] and row['j '+name]==row2['j '+name] \n",
    "                and row['z '+name]==row2['z '+name] ) : \n",
    "                        while count<=0 :\n",
    "                              print(row2)  #print row which do performance in train and in test \n",
    "                              count+=1\n",
    "                \n",
    "            else : \n",
    "                pass"
   ]
  },
  {
   "cell_type": "code",
   "execution_count": 39,
   "id": "3704420c-6a81-47bd-86df-22face6b2606",
   "metadata": {},
   "outputs": [],
   "source": [
    "#i_superT=[140,80,60 ,80,140,140]\n",
    "#j_superT=[190,10,190,10,190 ,190]\n",
    "#z_superT=[18.5,1.0,1.0,18.5,18.5,18.5] \n"
   ]
  },
  {
   "cell_type": "code",
   "execution_count": 30,
   "id": "044eeee3-0724-4b65-a502-18e2638a54aa",
   "metadata": {},
   "outputs": [],
   "source": [
    "def simule_AO (df ,name) :  \n",
    "    simule=pd.DataFrame() \n",
    "    simule_volume_strg=pd.DataFrame() \n",
    "    for i in range(1,100,3) : \n",
    "        for j in range(10,50,5):\n",
    "            rowslist =[]  \n",
    "            m=1000\n",
    "            coin=0\n",
    "       \n",
    "            df['STOCH_RSI'] = ta.momentum.stochrsi(close=df['close '+name], window=14) \n",
    "            df['WillR'] = ta.momentum.williams_r(high=df['high '+name], low=df['low '+name], \n",
    "                                                    close=df['close '+name],lbp=14) \n",
    "            df['AO']= ta.momentum.awesome_oscillator(df['high '+name],df['low '+name],window1=i\n",
    "                                                        ,window2=j)  \n",
    "            rotter=[]   \n",
    "    \n",
    "            for index, row in df.iterrows() : \n",
    "                if row['AO'] >= 0 and row['WillR'] < -85 and m>0:  \n",
    "                    coin=m/row['close '+name]  \n",
    "                    coin=coin-coin*0.007  \n",
    "                    m=0\n",
    "                    bot_portefeuille = m +coin*row['close '+name] \n",
    "                    chik={'i '+name:i , 'j '+name:j ,'value '+name:bot_portefeuille}\n",
    "                    rotter.append(chik)  \n",
    "     \n",
    "                if row['AO'] < 0 and row['STOCH_RSI'] > 0.2 and coin>0.001 :  \n",
    "                    m=coin*row['close '+name] \n",
    "                    m=m-m*0.007 \n",
    "                    coin=0   \n",
    "                    bot_portefeuille = m +coin*row['close '+name]  \n",
    "                    chik={'i '+name:i , 'j '+name:j,'value '+name:bot_portefeuille}\n",
    "                    rotter.append(chik)  \n",
    "            dt=pd.DataFrame(rotter)  \n",
    "            clock=dt.iloc[-1:]  \n",
    "            simule =simule.append(clock) \n",
    "    return simule"
   ]
  },
  {
   "cell_type": "code",
   "execution_count": 38,
   "id": "d39f5c32-a7d9-431a-8408-0cc16aa3d933",
   "metadata": {},
   "outputs": [
    {
     "name": "stderr",
     "output_type": "stream",
     "text": [
      "  0%|          | 0/7 [00:00<?, ?it/s]/var/folders/4k/2v2nn1sn1k1f7dtmr6ny96vh0000gn/T/ipykernel_7462/57776629.py:10: SettingWithCopyWarning: \n",
      "A value is trying to be set on a copy of a slice from a DataFrame.\n",
      "Try using .loc[row_indexer,col_indexer] = value instead\n",
      "\n",
      "See the caveats in the documentation: https://pandas.pydata.org/pandas-docs/stable/user_guide/indexing.html#returning-a-view-versus-a-copy\n",
      "  df['STOCH_RSI'] = ta.momentum.stochrsi(close=df['close '+name], window=14)\n",
      "/var/folders/4k/2v2nn1sn1k1f7dtmr6ny96vh0000gn/T/ipykernel_7462/57776629.py:11: SettingWithCopyWarning: \n",
      "A value is trying to be set on a copy of a slice from a DataFrame.\n",
      "Try using .loc[row_indexer,col_indexer] = value instead\n",
      "\n",
      "See the caveats in the documentation: https://pandas.pydata.org/pandas-docs/stable/user_guide/indexing.html#returning-a-view-versus-a-copy\n",
      "  df['WillR'] = ta.momentum.williams_r(high=df['high '+name], low=df['low '+name],\n",
      "/var/folders/4k/2v2nn1sn1k1f7dtmr6ny96vh0000gn/T/ipykernel_7462/57776629.py:13: SettingWithCopyWarning: \n",
      "A value is trying to be set on a copy of a slice from a DataFrame.\n",
      "Try using .loc[row_indexer,col_indexer] = value instead\n",
      "\n",
      "See the caveats in the documentation: https://pandas.pydata.org/pandas-docs/stable/user_guide/indexing.html#returning-a-view-versus-a-copy\n",
      "  df['AO']= ta.momentum.awesome_oscillator(df['high '+name],df['low '+name],window1=i\n",
      " 14%|█▍        | 1/7 [00:16<01:38, 16.38s/it]"
     ]
    },
    {
     "name": "stdout",
     "output_type": "stream",
     "text": [
      "i XRPUSDT          61.000000\n",
      "j XRPUSDT          25.000000\n",
      "value XRPUSDT    1630.728129\n",
      "Name: 7, dtype: float64\n"
     ]
    },
    {
     "name": "stderr",
     "output_type": "stream",
     "text": [
      " 29%|██▊       | 2/7 [00:30<01:16, 15.34s/it]"
     ]
    },
    {
     "name": "stdout",
     "output_type": "stream",
     "text": [
      "i BTCUSDT          16.000000\n",
      "j BTCUSDT          25.000000\n",
      "value BTCUSDT    2023.865283\n",
      "Name: 17, dtype: float64\n"
     ]
    },
    {
     "name": "stderr",
     "output_type": "stream",
     "text": [
      " 43%|████▎     | 3/7 [00:45<00:59, 15.00s/it]"
     ]
    },
    {
     "name": "stdout",
     "output_type": "stream",
     "text": [
      "i DASHUSDT          97.000000\n",
      "j DASHUSDT          15.000000\n",
      "value DASHUSDT    2801.218667\n",
      "Name: 5, dtype: float64\n"
     ]
    },
    {
     "name": "stderr",
     "output_type": "stream",
     "text": [
      " 57%|█████▋    | 4/7 [01:00<00:44, 14.84s/it]"
     ]
    },
    {
     "name": "stdout",
     "output_type": "stream",
     "text": [
      "i ZRXUSDT          97.000000\n",
      "j ZRXUSDT          45.000000\n",
      "value ZRXUSDT    2646.973559\n",
      "Name: 3, dtype: float64\n"
     ]
    },
    {
     "name": "stderr",
     "output_type": "stream",
     "text": [
      " 71%|███████▏  | 5/7 [01:14<00:29, 14.79s/it]"
     ]
    },
    {
     "name": "stdout",
     "output_type": "stream",
     "text": [
      "i ETHUSDT          49.000000\n",
      "j ETHUSDT          15.000000\n",
      "value ETHUSDT    2396.258542\n",
      "Name: 7, dtype: float64\n"
     ]
    },
    {
     "name": "stderr",
     "output_type": "stream",
     "text": [
      " 86%|████████▌ | 6/7 [01:30<00:15, 15.01s/it]"
     ]
    },
    {
     "name": "stdout",
     "output_type": "stream",
     "text": [
      "i XMRUSDT          46.000000\n",
      "j XMRUSDT          30.000000\n",
      "value XMRUSDT    2100.922766\n",
      "Name: 7, dtype: float64\n"
     ]
    },
    {
     "name": "stderr",
     "output_type": "stream",
     "text": [
      "100%|██████████| 7/7 [01:46<00:00, 15.18s/it]"
     ]
    },
    {
     "name": "stdout",
     "output_type": "stream",
     "text": [
      "i LTCUSDT           7.00000\n",
      "j LTCUSDT          20.00000\n",
      "value LTCUSDT    2422.09854\n",
      "Name: 9, dtype: float64\n"
     ]
    },
    {
     "name": "stderr",
     "output_type": "stream",
     "text": [
      "\n"
     ]
    }
   ],
   "source": [
    "for name in tqdm(paire_name) :    \n",
    "      \n",
    "    train=simule_AO (coin_dash_train ,name)  \n",
    "    result_train=most_per(train , name ,30) \n",
    "    #print('train result',result)\n",
    "              \n",
    "    test=simule_AO(coin_dash_test ,name)   \n",
    "    result_test=most_per(train , name, 50) \n",
    "    #print('test result', result ,75)  \n",
    "    count=0\n",
    "    for index, row in result_train.iterrows(): \n",
    "        for index ,row2 in result_test.iterrows(): \n",
    "            if row['i '+name]==row2['i '+name] and row['j '+name]==row2['j '+name] : \n",
    "                    while count<=0 :\n",
    "                        print(row2)  #print row which do performance in train and in test \n",
    "                        count+=1\n",
    "            else : \n",
    "                pass"
   ]
  },
  {
   "cell_type": "code",
   "execution_count": null,
   "id": "751f5a68-cbae-4d5d-b060-0bb1ce21b47b",
   "metadata": {},
   "outputs": [],
   "source": [
    "## WE TAKE RESULT FOR INDICATORS IMPLIMENTATION "
   ]
  }
 ],
 "metadata": {
  "kernelspec": {
   "display_name": "Python 3 (ipykernel)",
   "language": "python",
   "name": "python3"
  },
  "language_info": {
   "codemirror_mode": {
    "name": "ipython",
    "version": 3
   },
   "file_extension": ".py",
   "mimetype": "text/x-python",
   "name": "python",
   "nbconvert_exporter": "python",
   "pygments_lexer": "ipython3",
   "version": "3.8.8"
  }
 },
 "nbformat": 4,
 "nbformat_minor": 5
}
