{
 "cells": [
  {
   "cell_type": "code",
   "execution_count": 27,
   "id": "c81abb5f-36b9-45d5-b48e-055453bcdfbd",
   "metadata": {},
   "outputs": [],
   "source": [
    "import pandas as pd \n",
    "import ta   \n",
    "import pandas_ta as pda \n"
   ]
  },
  {
   "cell_type": "code",
   "execution_count": 28,
   "id": "b54e0552-f0b7-4202-adc0-73ae81c55852",
   "metadata": {},
   "outputs": [],
   "source": [
    "dash_coin=pd.read_csv(\"/Users/midou/Desktop/dashbord11_coin.csv\") "
   ]
  },
  {
   "cell_type": "code",
   "execution_count": 29,
   "id": "372be319-c08f-487c-8a74-9e278704c8e9",
   "metadata": {},
   "outputs": [],
   "source": [
    "coin_names = [\"XRPUSDT\",\"BTCUSDT\",\"DASHUSDT\",\"ZRXUSDT\",\"ETHUSDT\",\"XMRUSDT\",\"LTCUSDT\"]"
   ]
  },
  {
   "cell_type": "code",
   "execution_count": 30,
   "id": "6e3cc405-0983-4b17-8752-1654fe9ab981",
   "metadata": {},
   "outputs": [
    {
     "data": {
      "text/plain": [
       "'BTCUSDT'"
      ]
     },
     "execution_count": 30,
     "metadata": {},
     "output_type": "execute_result"
    }
   ],
   "source": [
    "paire_name[1]"
   ]
  },
  {
   "cell_type": "code",
   "execution_count": 31,
   "id": "fb9d0647-e6aa-488e-a485-b3d391219018",
   "metadata": {},
   "outputs": [],
   "source": [
    "for name in coin_names : \n",
    "    P= name +\" MB200\" \n",
    "    D= name +\" MB600\"\n",
    "    dash_coin[P]=ta.trend.sma_indicator(dash_coin['close '+ name],100) \n",
    "    dash_coin[D]=ta.trend.sma_indicator(dash_coin['close '+ name],400)  \n",
    "    "
   ]
  },
  {
   "cell_type": "code",
   "execution_count": 32,
   "id": "390053c7-5b91-45a5-8c37-49e17c460887",
   "metadata": {},
   "outputs": [],
   "source": [
    "i_trix=[105,20,25,100,40,25,20] ##Optimal parametre for trix \n",
    "j_trix=[150,100,200,150,200,100,150] ##Optimal parametre for trix \n",
    "i_bigwill=[61,16,97,97,49,46,7] \n",
    "j_bigwill=[25,25,15,45,15,30,20] #optima for AO and willR. \n",
    "i_superT1=[140,80,60 ,80,140,140 ,140 ]\n",
    "j_superT=[190,10,190,10,190 ,190 ,190 ]\n",
    "z_superT=[18.5,1.0,1.0,18.5,18.5,18.5,18.5 ]\n"
   ]
  },
  {
   "cell_type": "code",
   "execution_count": 33,
   "id": "c8347832-96fe-4c90-afcc-84e16c58a477",
   "metadata": {},
   "outputs": [],
   "source": [
    "#trix indicator implimentation.  \n",
    "for pos in range(7) :   \n",
    "    name=paire_name[pos] \n",
    "    trix_length=i_trix[pos] \n",
    "    trix_signal=j_trix[pos] \n",
    "    bigW__i=i_bigwill[pos] \n",
    "    bigW__j=j_bigwill[pos] \n",
    "    ST_length= j_superT[pos] \n",
    "    ST_multiplier= z_superT[pos]  \n",
    "    i_superT=i_superT1[pos]\n",
    "    dash_coin[\"TRIX \"+name]=ta.trend.ema_indicator(\n",
    "            ta.trend.ema_indicator(ta.trend.ema_indicator(\n",
    "    dash_coin['close '+ name],window=trix_length),window=trix_length),window=trix_length)  \n",
    "    dash_coin[\"TRIX_PCT \"+name]=dash_coin[\"TRIX \"+name].pct_change()*100   #### corriger en point d'echage \n",
    "    dash_coin[\"TRIX_singal \"+name]=ta.trend.sma_indicator(dash_coin[\"TRIX_PCT \"+name],trix_signal) \n",
    "    dash_coin[\"TRIX_histo \"+name]=dash_coin[\"TRIX_PCT \"+name]-dash_coin[\"TRIX_singal \"+name]  \n",
    "    #dash_coin[\"stoch_rsi \"+name]=ta.momentum.stochrsi(dash_coin[\"close \"+name] , window=14 ,smooth1=3 ,smooth2=3)  \n",
    "    dash_coin['STOCH_RSI '+name] = ta.momentum.stochrsi(close=dash_coin['close '+name], window=14) \n",
    "    dash_coin['WillR '+name] = ta.momentum.williams_r(high=dash_coin['high '+name], low=dash_coin['low '+name], \n",
    "                                                    close=dash_coin['close '+name],lbp=14) \n",
    "    dash_coin['AO '+name]= ta.momentum.awesome_oscillator(dash_coin['high '+name],dash_coin['low '+name],window1=bigW__i\n",
    "                                                        ,window2=bigW__j)   \n",
    "    superTrend = pda.supertrend(dash_coin['high '+name], dash_coin['low '+name], dash_coin['close '+name], \n",
    "                                        length=ST_length, multiplier=ST_multiplier)\n",
    "    dash_coin['SUPER_TREND'] = superTrend['SUPERT_'+str(ST_length)+\"_\"+str(ST_multiplier)]\n",
    "    dash_coin['SUPER_TREND_DIRECTION1 '+name] = superTrend['SUPERTd_'+str(ST_length)+\"_\"+str(ST_multiplier)]  \n",
    "    \n",
    "    superTrend = pda.supertrend(dash_coin['high '+name], dash_coin['low '+name], dash_coin['close '+name],\n",
    "                                        length=ST_length*2, multiplier=ST_multiplier*2)\n",
    "    dash_coin['SUPER_TREND'] = superTrend['SUPERT_'+str(ST_length*2)+\"_\"+str(ST_multiplier*2)]\n",
    "    dash_coin['SUPER_TREND_DIRECTION2 '+name] = superTrend['SUPERTd_'+str(ST_length*2)+\"_\"+str(ST_multiplier*2)] \n",
    "    \n",
    "    superTrend = pda.supertrend(dash_coin['high '+name], dash_coin['low '+name], dash_coin['close '+name], \n",
    "                                        length=ST_length*4, multiplier=ST_multiplier*4)\n",
    "    dash_coin['SUPER_TREND'] = superTrend['SUPERT_'+str(ST_length*4)+\"_\"+str(ST_multiplier*4)]\n",
    "    dash_coin['SUPER_TREND_DIRECTION3 '+name] = superTrend['SUPERTd_'+str(ST_length*4)+\"_\"+str(ST_multiplier*4)]\n",
    "    dash_coin['EMA50 '+name]=ta.trend.sma_indicator(dash_coin['close '+name], i_superT)\n",
    "    \n",
    "    \n",
    "    \n",
    "\n",
    "    \n",
    "    \n",
    "            \n",
    "    \n",
    "    \n",
    "    \n"
   ]
  },
  {
   "cell_type": "code",
   "execution_count": 34,
   "id": "67c6aded-6449-4ca6-ac5a-6e812cde2aa3",
   "metadata": {},
   "outputs": [
    {
     "data": {
      "text/plain": [
       "Index(['Unnamed: 0', 'timestamp', 'open BTCUSDT', 'high BTCUSDT',\n",
       "       'low BTCUSDT', 'close BTCUSDT', 'volume BTCUSDT', 'closetime BTCUSDT',\n",
       "       'quote_avg BTCUSDT', 'trades BTCUSDT',\n",
       "       ...\n",
       "       'TRIX_PCT LTCUSDT', 'TRIX_singal LTCUSDT', 'TRIX_histo LTCUSDT',\n",
       "       'STOCH_RSI LTCUSDT', 'WillR LTCUSDT', 'AO LTCUSDT',\n",
       "       'SUPER_TREND_DIRECTION1 LTCUSDT', 'SUPER_TREND_DIRECTION2 LTCUSDT',\n",
       "       'SUPER_TREND_DIRECTION3 LTCUSDT', 'EMA50 LTCUSDT'],\n",
       "      dtype='object', length=150)"
      ]
     },
     "execution_count": 34,
     "metadata": {},
     "output_type": "execute_result"
    }
   ],
   "source": [
    "dash_coin.columns"
   ]
  },
  {
   "cell_type": "code",
   "execution_count": 35,
   "id": "ae4e0ac5-6351-4262-8edc-8e2646b09191",
   "metadata": {},
   "outputs": [],
   "source": [
    "dash_coin.to_csv(r'/Users/midou/Desktop/Machine learning project/Dash_all_indicators_optimised.csv', index = False)\n"
   ]
  },
  {
   "cell_type": "code",
   "execution_count": null,
   "id": "6e8c6026-e459-4095-ada9-f3ecb1ac0bc2",
   "metadata": {},
   "outputs": [],
   "source": []
  }
 ],
 "metadata": {
  "kernelspec": {
   "display_name": "Python 3 (ipykernel)",
   "language": "python",
   "name": "python3"
  },
  "language_info": {
   "codemirror_mode": {
    "name": "ipython",
    "version": 3
   },
   "file_extension": ".py",
   "mimetype": "text/x-python",
   "name": "python",
   "nbconvert_exporter": "python",
   "pygments_lexer": "ipython3",
   "version": "3.8.8"
  }
 },
 "nbformat": 4,
 "nbformat_minor": 5
}
